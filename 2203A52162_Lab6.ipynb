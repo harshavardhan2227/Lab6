{
  "nbformat": 4,
  "nbformat_minor": 0,
  "metadata": {
    "colab": {
      "provenance": []
    },
    "kernelspec": {
      "name": "python3",
      "display_name": "Python 3"
    },
    "language_info": {
      "name": "python"
    }
  },
  "cells": [
    {
      "cell_type": "code",
      "execution_count": 3,
      "metadata": {
        "colab": {
          "base_uri": "https://localhost:8080/"
        },
        "id": "5s9F1hTO6IMd",
        "outputId": "2d51855f-9d82-4398-fdc2-8225449ba3c8"
      },
      "outputs": [
        {
          "output_type": "stream",
          "name": "stdout",
          "text": [
            "Mean Squared Error: 0.37640086063283196\n"
          ]
        }
      ],
      "source": [
        "import numpy as np\n",
        "import pandas as pd\n",
        "import matplotlib.pyplot as plt\n",
        "from sklearn.preprocessing import MinMaxScaler\n",
        "from sklearn.model_selection import train_test_split\n",
        "from sklearn.linear_model import LinearRegression\n",
        "from sklearn.metrics import mean_squared_error,mean_absolute_error\n",
        "\n",
        "data = pd.read_csv('/Japan_life_expectancy.csv')\n",
        "\n",
        "features = data.drop('Prefecture', axis=1)\n",
        "features = features.drop('Life_expectancy', axis=1)\n",
        "target = data['Life_expectancy']\n",
        "\n",
        "scaler = MinMaxScaler()\n",
        "features_scaled = scaler.fit_transform(features)\n",
        "\n",
        "\n",
        "X_train, X_test, y_train, y_test = train_test_split(features_scaled, target, test_size=0.3, random_state=13)\n",
        "\n",
        "lr = LinearRegression()\n",
        "lr.fit(X_train, y_train)\n",
        "\n",
        "\n",
        "coef = lr.coef_\n",
        "intercept = lr.intercept_\n",
        "\n",
        "y_pred = lr.predict(X_test)\n",
        "\n",
        "\n",
        "mse = mean_squared_error(y_test, y_pred)\n",
        "print(f\"Mean Squared Error: {mse}\")"
      ]
    },
    {
      "cell_type": "code",
      "source": [
        "from sklearn.linear_model import Ridge\n",
        "import numpy as np\n",
        "alpha = 1.0\n",
        "ridge = Ridge()\n",
        "ridge.fit(features,target)\n",
        "\n",
        "penalty = np.sum(ridge.coef_ ** 2) * alpha\n",
        "\n",
        "print(f\"Penalty (L2 Regularization Term): {penalty}\")"
      ],
      "metadata": {
        "colab": {
          "base_uri": "https://localhost:8080/"
        },
        "id": "sI8JcMlq7aPM",
        "outputId": "0be2ced6-67f7-41a9-80bc-bad7f2856fae"
      },
      "execution_count": 4,
      "outputs": [
        {
          "output_type": "stream",
          "name": "stdout",
          "text": [
            "Penalty (L2 Regularization Term): 0.02058690078860135\n"
          ]
        }
      ]
    },
    {
      "cell_type": "code",
      "source": [
        " from sklearn.linear_model import Lasso\n",
        "\n",
        "lasso = Lasso()\n",
        "lasso.fit(features, target)\n",
        "penalty = np.sum(np.abs(lasso.coef_)) * alpha\n",
        "print(f\"Penalty (L1 Regularization Term): {penalty}\")\n",
        "\n",
        "\n",
        "lasso = Lasso()\n",
        "lasso.fit(X_train, y_train)\n",
        "y_pred = lasso.predict(X_test)\n",
        "mse = mean_squared_error(y_test, y_pred)\n",
        "print(f\"Mean Squared Error with Lasso Regression: {mse}\")\n",
        "\n",
        "\n",
        "y_pred = lasso.predict(X_train)\n",
        "mse = mean_squared_error(y_train, y_pred)"
      ],
      "metadata": {
        "colab": {
          "base_uri": "https://localhost:8080/"
        },
        "id": "GMlh-UKB8RrE",
        "outputId": "5185570c-ee27-4ae3-d11f-901d328a2a94"
      },
      "execution_count": 5,
      "outputs": [
        {
          "output_type": "stream",
          "name": "stdout",
          "text": [
            "Penalty (L1 Regularization Term): 0.021642621843972275\n",
            "Mean Squared Error with Lasso Regression: 0.11286936848958391\n"
          ]
        }
      ]
    }
  ]
}